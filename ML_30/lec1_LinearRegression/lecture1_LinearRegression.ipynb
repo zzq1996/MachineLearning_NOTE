{
 "cells": [
  {
   "cell_type": "markdown",
   "source": [
    "# 线性回归\n",
    "## 数学推导\n",
    "\n",
    "![](./imgs/1_1.png)\n",
    "\n",
    "![](./imgs/1_2.png)"
   ],
   "metadata": {
    "collapsed": false
   }
  },
  {
   "cell_type": "markdown",
   "source": [
    "## 编程实现\n",
    "\n",
    "回归模型主体部分较为简单，关键在于如何在给出 mse（均方误差） 损失函数之后基于梯度下降的参数更新过程。\n",
    "\n",
    "首先我们需要写出模型的主体和损失函数以及基于损失函数的参数求导结果，然后对参数进行初始化，最后写出基于梯度下降法的参数更新过程。\n",
    "\n",
    "当然，我们也可以写出交叉验证来得到更加稳健的参数估计值。\n"
   ],
   "metadata": {
    "collapsed": false
   }
  },
  {
   "cell_type": "code",
   "execution_count": 7,
   "outputs": [],
   "source": [
    "\"\"\"\n",
    "回归模型主体\n",
    "\n",
    "numpy中的矩阵相乘\n",
    "- np.multiply:元素级乘法\n",
    "- np.matmul或np.dot:矩阵相乘\n",
    "\n",
    "\"\"\"\n",
    "\n",
    "import numpy as np\n",
    "\n",
    "def linear_loss(X,y,w,b):\n",
    "    num_train=X.shape[0] # 训练样本数\n",
    "    num_feature=X.shape[1] # 单个样本维度\n",
    "\n",
    "    # 模型公式\n",
    "    y_hat=np.dot(X,w)+b\n",
    "\n",
    "    # 损失函数\n",
    "    loss=np.sum((y_hat-y)**2)/num_train\n",
    "\n",
    "    # 参数的偏导\n",
    "    dw=np.dot(X.T,(y_hat-y))/num_train\n",
    "    db=np.sum((y_hat-y))/num_train\n",
    "\n",
    "    return y_hat,loss,dw,db\n"
   ],
   "metadata": {
    "collapsed": false,
    "ExecuteTime": {
     "end_time": "2023-07-15T06:51:59.410887374Z",
     "start_time": "2023-07-15T06:51:59.407831947Z"
    }
   }
  },
  {
   "cell_type": "code",
   "execution_count": 8,
   "outputs": [],
   "source": [
    "\"\"\"\n",
    "参数初始化\n",
    "\"\"\"\n",
    "\n",
    "def initialize_params(dims):\n",
    "    w=np.zeros((dims,1))\n",
    "    b=0\n",
    "    return w,b"
   ],
   "metadata": {
    "collapsed": false,
    "ExecuteTime": {
     "end_time": "2023-07-15T06:52:00.753085415Z",
     "start_time": "2023-07-15T06:52:00.751743022Z"
    }
   }
  },
  {
   "cell_type": "code",
   "execution_count": 9,
   "outputs": [],
   "source": [
    "\"\"\"\n",
    "基于梯度下降的模型训练过程\n",
    "\"\"\"\n",
    "\n",
    "def linear_train(X, y, learning_rate, epochs):\n",
    "    w,b=initialize_params(X.shape[1]) # 样本特征数\n",
    "    loss_list=[]\n",
    "\n",
    "    for i in range(1,epochs):\n",
    "        # 计算当前预测值、损失和参数偏导\n",
    "        y_hat,loss,dw,db=linear_loss(X,y,w,b)  # 注意这种函数返回值方法\n",
    "        loss_list.append(loss)\n",
    "\n",
    "        # 基于梯度下降的参数更新过程\n",
    "        w=w-learning_rate*dw\n",
    "        b=b-learning_rate*db\n",
    "\n",
    "        # 打印迭代次数和损失\n",
    "        if i%10000 == 0:\n",
    "            print(f'epoch: {i} loss: {loss}')\n",
    "\n",
    "\n",
    "        # Python字典(dictionary),其中键值对由冒号分隔，每个键和值之间用逗号分隔。\n",
    "        # 在这个例子中，w和b是字典的键，而w和b的值分别是变量w和b的值。\n",
    "        # 保存参数\n",
    "        params={'w':w,'b':b}\n",
    "\n",
    "        # 保存梯度\n",
    "        grads={'dw':dw,'db':db}\n",
    "\n",
    "    return loss_list,loss,params,grads\n"
   ],
   "metadata": {
    "collapsed": false,
    "ExecuteTime": {
     "end_time": "2023-07-15T06:52:02.714459590Z",
     "start_time": "2023-07-15T06:52:02.713297320Z"
    }
   }
  },
  {
   "cell_type": "code",
   "execution_count": 1,
   "outputs": [
    {
     "data": {
      "text/plain": "{'data': array([[ 0.03807591,  0.05068012,  0.06169621, ..., -0.00259226,\n          0.01990749, -0.01764613],\n        [-0.00188202, -0.04464164, -0.05147406, ..., -0.03949338,\n         -0.06833155, -0.09220405],\n        [ 0.08529891,  0.05068012,  0.04445121, ..., -0.00259226,\n          0.00286131, -0.02593034],\n        ...,\n        [ 0.04170844,  0.05068012, -0.01590626, ..., -0.01107952,\n         -0.04688253,  0.01549073],\n        [-0.04547248, -0.04464164,  0.03906215, ...,  0.02655962,\n          0.04452873, -0.02593034],\n        [-0.04547248, -0.04464164, -0.0730303 , ..., -0.03949338,\n         -0.00422151,  0.00306441]]),\n 'target': array([151.,  75., 141., 206., 135.,  97., 138.,  63., 110., 310., 101.,\n         69., 179., 185., 118., 171., 166., 144.,  97., 168.,  68.,  49.,\n         68., 245., 184., 202., 137.,  85., 131., 283., 129.,  59., 341.,\n         87.,  65., 102., 265., 276., 252.,  90., 100.,  55.,  61.,  92.,\n        259.,  53., 190., 142.,  75., 142., 155., 225.,  59., 104., 182.,\n        128.,  52.,  37., 170., 170.,  61., 144.,  52., 128.,  71., 163.,\n        150.,  97., 160., 178.,  48., 270., 202., 111.,  85.,  42., 170.,\n        200., 252., 113., 143.,  51.,  52., 210.,  65., 141.,  55., 134.,\n         42., 111.,  98., 164.,  48.,  96.,  90., 162., 150., 279.,  92.,\n         83., 128., 102., 302., 198.,  95.,  53., 134., 144., 232.,  81.,\n        104.,  59., 246., 297., 258., 229., 275., 281., 179., 200., 200.,\n        173., 180.,  84., 121., 161.,  99., 109., 115., 268., 274., 158.,\n        107.,  83., 103., 272.,  85., 280., 336., 281., 118., 317., 235.,\n         60., 174., 259., 178., 128.,  96., 126., 288.,  88., 292.,  71.,\n        197., 186.,  25.,  84.,  96., 195.,  53., 217., 172., 131., 214.,\n         59.,  70., 220., 268., 152.,  47.,  74., 295., 101., 151., 127.,\n        237., 225.,  81., 151., 107.,  64., 138., 185., 265., 101., 137.,\n        143., 141.,  79., 292., 178.,  91., 116.,  86., 122.,  72., 129.,\n        142.,  90., 158.,  39., 196., 222., 277.,  99., 196., 202., 155.,\n         77., 191.,  70.,  73.,  49.,  65., 263., 248., 296., 214., 185.,\n         78.,  93., 252., 150.,  77., 208.,  77., 108., 160.,  53., 220.,\n        154., 259.,  90., 246., 124.,  67.,  72., 257., 262., 275., 177.,\n         71.,  47., 187., 125.,  78.,  51., 258., 215., 303., 243.,  91.,\n        150., 310., 153., 346.,  63.,  89.,  50.,  39., 103., 308., 116.,\n        145.,  74.,  45., 115., 264.,  87., 202., 127., 182., 241.,  66.,\n         94., 283.,  64., 102., 200., 265.,  94., 230., 181., 156., 233.,\n         60., 219.,  80.,  68., 332., 248.,  84., 200.,  55.,  85.,  89.,\n         31., 129.,  83., 275.,  65., 198., 236., 253., 124.,  44., 172.,\n        114., 142., 109., 180., 144., 163., 147.,  97., 220., 190., 109.,\n        191., 122., 230., 242., 248., 249., 192., 131., 237.,  78., 135.,\n        244., 199., 270., 164.,  72.,  96., 306.,  91., 214.,  95., 216.,\n        263., 178., 113., 200., 139., 139.,  88., 148.,  88., 243.,  71.,\n         77., 109., 272.,  60.,  54., 221.,  90., 311., 281., 182., 321.,\n         58., 262., 206., 233., 242., 123., 167.,  63., 197.,  71., 168.,\n        140., 217., 121., 235., 245.,  40.,  52., 104., 132.,  88.,  69.,\n        219.,  72., 201., 110.,  51., 277.,  63., 118.,  69., 273., 258.,\n         43., 198., 242., 232., 175.,  93., 168., 275., 293., 281.,  72.,\n        140., 189., 181., 209., 136., 261., 113., 131., 174., 257.,  55.,\n         84.,  42., 146., 212., 233.,  91., 111., 152., 120.,  67., 310.,\n         94., 183.,  66., 173.,  72.,  49.,  64.,  48., 178., 104., 132.,\n        220.,  57.]),\n 'frame': None,\n 'DESCR': '.. _diabetes_dataset:\\n\\nDiabetes dataset\\n----------------\\n\\nTen baseline variables, age, sex, body mass index, average blood\\npressure, and six blood serum measurements were obtained for each of n =\\n442 diabetes patients, as well as the response of interest, a\\nquantitative measure of disease progression one year after baseline.\\n\\n**Data Set Characteristics:**\\n\\n  :Number of Instances: 442\\n\\n  :Number of Attributes: First 10 columns are numeric predictive values\\n\\n  :Target: Column 11 is a quantitative measure of disease progression one year after baseline\\n\\n  :Attribute Information:\\n      - age     age in years\\n      - sex\\n      - bmi     body mass index\\n      - bp      average blood pressure\\n      - s1      tc, total serum cholesterol\\n      - s2      ldl, low-density lipoproteins\\n      - s3      hdl, high-density lipoproteins\\n      - s4      tch, total cholesterol / HDL\\n      - s5      ltg, possibly log of serum triglycerides level\\n      - s6      glu, blood sugar level\\n\\nNote: Each of these 10 feature variables have been mean centered and scaled by the standard deviation times the square root of `n_samples` (i.e. the sum of squares of each column totals 1).\\n\\nSource URL:\\nhttps://www4.stat.ncsu.edu/~boos/var.select/diabetes.html\\n\\nFor more information see:\\nBradley Efron, Trevor Hastie, Iain Johnstone and Robert Tibshirani (2004) \"Least Angle Regression,\" Annals of Statistics (with discussion), 407-499.\\n(https://web.stanford.edu/~hastie/Papers/LARS/LeastAngle_2002.pdf)\\n',\n 'feature_names': ['age',\n  'sex',\n  'bmi',\n  'bp',\n  's1',\n  's2',\n  's3',\n  's4',\n  's5',\n  's6'],\n 'data_filename': 'diabetes_data_raw.csv.gz',\n 'target_filename': 'diabetes_target.csv.gz',\n 'data_module': 'sklearn.datasets.data'}"
     },
     "execution_count": 1,
     "metadata": {},
     "output_type": "execute_result"
    }
   ],
   "source": [
    "\"\"\"\n",
    "数据准备\n",
    "- 以sklearn中的diabetes数据集为例\n",
    "\"\"\"\n",
    "\n",
    "from sklearn.datasets import load_diabetes\n",
    "from sklearn.utils import shuffle\n",
    "\n",
    "diabetes=load_diabetes()\n",
    "diabetes"
   ],
   "metadata": {
    "collapsed": false,
    "ExecuteTime": {
     "end_time": "2023-07-15T06:43:21.143076110Z",
     "start_time": "2023-07-15T06:43:20.901144959Z"
    }
   }
  },
  {
   "cell_type": "code",
   "execution_count": 4,
   "outputs": [
    {
     "data": {
      "text/plain": "(array([[ 0.03807591,  0.05068012,  0.06169621, ..., -0.00259226,\n          0.01990749, -0.01764613],\n        [-0.00188202, -0.04464164, -0.05147406, ..., -0.03949338,\n         -0.06833155, -0.09220405],\n        [ 0.08529891,  0.05068012,  0.04445121, ..., -0.00259226,\n          0.00286131, -0.02593034],\n        ...,\n        [ 0.04170844,  0.05068012, -0.01590626, ..., -0.01107952,\n         -0.04688253,  0.01549073],\n        [-0.04547248, -0.04464164,  0.03906215, ...,  0.02655962,\n          0.04452873, -0.02593034],\n        [-0.04547248, -0.04464164, -0.0730303 , ..., -0.03949338,\n         -0.00422151,  0.00306441]]),\n (442, 10))"
     },
     "execution_count": 4,
     "metadata": {},
     "output_type": "execute_result"
    }
   ],
   "source": [
    "diabetes.data,diabetes.data.shape"
   ],
   "metadata": {
    "collapsed": false,
    "ExecuteTime": {
     "end_time": "2023-07-15T06:47:12.159242095Z",
     "start_time": "2023-07-15T06:47:12.157497826Z"
    }
   }
  },
  {
   "cell_type": "code",
   "execution_count": 5,
   "outputs": [
    {
     "data": {
      "text/plain": "(array([151.,  75., 141., 206., 135.,  97., 138.,  63., 110., 310., 101.,\n         69., 179., 185., 118., 171., 166., 144.,  97., 168.,  68.,  49.,\n         68., 245., 184., 202., 137.,  85., 131., 283., 129.,  59., 341.,\n         87.,  65., 102., 265., 276., 252.,  90., 100.,  55.,  61.,  92.,\n        259.,  53., 190., 142.,  75., 142., 155., 225.,  59., 104., 182.,\n        128.,  52.,  37., 170., 170.,  61., 144.,  52., 128.,  71., 163.,\n        150.,  97., 160., 178.,  48., 270., 202., 111.,  85.,  42., 170.,\n        200., 252., 113., 143.,  51.,  52., 210.,  65., 141.,  55., 134.,\n         42., 111.,  98., 164.,  48.,  96.,  90., 162., 150., 279.,  92.,\n         83., 128., 102., 302., 198.,  95.,  53., 134., 144., 232.,  81.,\n        104.,  59., 246., 297., 258., 229., 275., 281., 179., 200., 200.,\n        173., 180.,  84., 121., 161.,  99., 109., 115., 268., 274., 158.,\n        107.,  83., 103., 272.,  85., 280., 336., 281., 118., 317., 235.,\n         60., 174., 259., 178., 128.,  96., 126., 288.,  88., 292.,  71.,\n        197., 186.,  25.,  84.,  96., 195.,  53., 217., 172., 131., 214.,\n         59.,  70., 220., 268., 152.,  47.,  74., 295., 101., 151., 127.,\n        237., 225.,  81., 151., 107.,  64., 138., 185., 265., 101., 137.,\n        143., 141.,  79., 292., 178.,  91., 116.,  86., 122.,  72., 129.,\n        142.,  90., 158.,  39., 196., 222., 277.,  99., 196., 202., 155.,\n         77., 191.,  70.,  73.,  49.,  65., 263., 248., 296., 214., 185.,\n         78.,  93., 252., 150.,  77., 208.,  77., 108., 160.,  53., 220.,\n        154., 259.,  90., 246., 124.,  67.,  72., 257., 262., 275., 177.,\n         71.,  47., 187., 125.,  78.,  51., 258., 215., 303., 243.,  91.,\n        150., 310., 153., 346.,  63.,  89.,  50.,  39., 103., 308., 116.,\n        145.,  74.,  45., 115., 264.,  87., 202., 127., 182., 241.,  66.,\n         94., 283.,  64., 102., 200., 265.,  94., 230., 181., 156., 233.,\n         60., 219.,  80.,  68., 332., 248.,  84., 200.,  55.,  85.,  89.,\n         31., 129.,  83., 275.,  65., 198., 236., 253., 124.,  44., 172.,\n        114., 142., 109., 180., 144., 163., 147.,  97., 220., 190., 109.,\n        191., 122., 230., 242., 248., 249., 192., 131., 237.,  78., 135.,\n        244., 199., 270., 164.,  72.,  96., 306.,  91., 214.,  95., 216.,\n        263., 178., 113., 200., 139., 139.,  88., 148.,  88., 243.,  71.,\n         77., 109., 272.,  60.,  54., 221.,  90., 311., 281., 182., 321.,\n         58., 262., 206., 233., 242., 123., 167.,  63., 197.,  71., 168.,\n        140., 217., 121., 235., 245.,  40.,  52., 104., 132.,  88.,  69.,\n        219.,  72., 201., 110.,  51., 277.,  63., 118.,  69., 273., 258.,\n         43., 198., 242., 232., 175.,  93., 168., 275., 293., 281.,  72.,\n        140., 189., 181., 209., 136., 261., 113., 131., 174., 257.,  55.,\n         84.,  42., 146., 212., 233.,  91., 111., 152., 120.,  67., 310.,\n         94., 183.,  66., 173.,  72.,  49.,  64.,  48., 178., 104., 132.,\n        220.,  57.]),\n (442,))"
     },
     "execution_count": 5,
     "metadata": {},
     "output_type": "execute_result"
    }
   ],
   "source": [
    "diabetes.target,diabetes.target.shape"
   ],
   "metadata": {
    "collapsed": false,
    "ExecuteTime": {
     "end_time": "2023-07-15T06:47:49.830083527Z",
     "start_time": "2023-07-15T06:47:49.813987516Z"
    }
   }
  },
  {
   "cell_type": "code",
   "execution_count": 10,
   "outputs": [
    {
     "data": {
      "text/plain": "((397,), (397, 10))"
     },
     "execution_count": 10,
     "metadata": {},
     "output_type": "execute_result"
    }
   ],
   "source": [
    "data=diabetes.data\n",
    "target=diabetes.target\n",
    "\n",
    "# 打乱数据\n",
    "X,y=shuffle(data,target,random_state=13)\n",
    "X=X.astype(np.float32)\n",
    "\n",
    "# 训练集与测试集的简单划分\n",
    "offset=int(X.shape[0] * 0.9)\n",
    "X_train,y_train=X[:offset],y[:offset]\n",
    "X_test,y_test=X[offset:],y[offset:]\n",
    "y_train.shape,X_train.shape"
   ],
   "metadata": {
    "collapsed": false,
    "ExecuteTime": {
     "end_time": "2023-07-15T06:52:07.356573770Z",
     "start_time": "2023-07-15T06:52:07.354487134Z"
    }
   }
  },
  {
   "cell_type": "code",
   "execution_count": 12,
   "outputs": [
    {
     "data": {
      "text/plain": "((397, 1), (397, 10))"
     },
     "execution_count": 12,
     "metadata": {},
     "output_type": "execute_result"
    }
   ],
   "source": [
    "y_train=y_train.reshape((-1,1))\n",
    "y_test=y_test.reshape((-1,1))\n",
    "y_train.shape,X_train.shape"
   ],
   "metadata": {
    "collapsed": false,
    "ExecuteTime": {
     "end_time": "2023-07-15T06:53:38.043716765Z",
     "start_time": "2023-07-15T06:53:38.041203765Z"
    }
   }
  },
  {
   "cell_type": "code",
   "execution_count": 13,
   "outputs": [
    {
     "name": "stdout",
     "output_type": "stream",
     "text": [
      "epoch: 10000 loss: 5533.040550284951\n",
      "epoch: 20000 loss: 5217.583883518683\n",
      "epoch: 30000 loss: 4949.678482446461\n",
      "epoch: 40000 loss: 4721.506497122249\n",
      "epoch: 50000 loss: 4526.570175705585\n",
      "epoch: 60000 loss: 4359.467121410634\n",
      "epoch: 70000 loss: 4215.703940136302\n",
      "epoch: 80000 loss: 4091.5416831061716\n",
      "epoch: 90000 loss: 3983.8676546491324\n"
     ]
    }
   ],
   "source": [
    "\"\"\"\n",
    "执行训练\n",
    "\"\"\"\n",
    "loss_list,loss,params,grads=linear_train(\n",
    "    X_train,\n",
    "    y_train,\n",
    "    learning_rate=0.001,\n",
    "    epochs=100000\n",
    ")\n"
   ],
   "metadata": {
    "collapsed": false,
    "ExecuteTime": {
     "end_time": "2023-07-15T06:56:35.744367613Z",
     "start_time": "2023-07-15T06:56:34.392181828Z"
    }
   }
  },
  {
   "cell_type": "code",
   "execution_count": 14,
   "outputs": [
    {
     "data": {
      "text/plain": "{'w': array([[  44.07236054],\n        [  -6.99862806],\n        [ 157.06674066],\n        [ 118.32851166],\n        [  37.47927323],\n        [  24.9769092 ],\n        [-104.31188937],\n        [ 104.03509035],\n        [ 148.85488994],\n        [  94.07049622]]),\n 'b': 151.57222667066986}"
     },
     "execution_count": 14,
     "metadata": {},
     "output_type": "execute_result"
    }
   ],
   "source": [
    "\"\"\"\n",
    "查看训练得到的回归模型参数值\n",
    "\"\"\"\n",
    "\n",
    "params"
   ],
   "metadata": {
    "collapsed": false,
    "ExecuteTime": {
     "end_time": "2023-07-15T06:57:43.796079260Z",
     "start_time": "2023-07-15T06:57:43.793128666Z"
    }
   }
  },
  {
   "cell_type": "code",
   "execution_count": 15,
   "outputs": [
    {
     "data": {
      "text/plain": "array([[132.02588998],\n       [141.7741821 ],\n       [150.48386535],\n       [128.48606226],\n       [147.29323713]])"
     },
     "execution_count": 15,
     "metadata": {},
     "output_type": "execute_result"
    }
   ],
   "source": [
    "\"\"\"\n",
    "定义一个预测函数对测试集结果进行预测\n",
    "\"\"\"\n",
    "def predict(X,params):\n",
    "    w=params['w']\n",
    "    b=params['b']\n",
    "\n",
    "    y_pred=np.dot(X,w)+b\n",
    "    return y_pred\n",
    "\n",
    "y_pred=predict(X_test,params)\n",
    "y_pred[:5] # 展示前5个预测值"
   ],
   "metadata": {
    "collapsed": false,
    "ExecuteTime": {
     "end_time": "2023-07-15T06:59:52.717205421Z",
     "start_time": "2023-07-15T06:59:52.675154546Z"
    }
   }
  },
  {
   "cell_type": "code",
   "execution_count": 20,
   "outputs": [
    {
     "data": {
      "text/plain": "<Figure size 640x480 with 1 Axes>",
      "image/png": "[encoded data removed]"
     },
     "metadata": {},
     "output_type": "display_data"
    }
   ],
   "source": [
    "\"\"\"\n",
    "利用matplotlib对预测结果和真值进行展示\n",
    "\"\"\"\n",
    "\n",
    "import matplotlib.pyplot as plt\n",
    "\n",
    "f=X_test.dot(params['w'])+params['b']\n",
    "\n",
    "plt.scatter(range(X_test.shape[0]),y_test)  # 散点图\n",
    "# plt.plot(range(X_test.shape[0]),y_test)  # 折线图\n",
    "plt.plot(f, color='darkorange')\n",
    "plt.xlabel('X')\n",
    "plt.ylabel('y')\n",
    "plt.show()"
   ],
   "metadata": {
    "collapsed": false,
    "ExecuteTime": {
     "end_time": "2023-07-15T07:06:53.076259158Z",
     "start_time": "2023-07-15T07:06:53.010857677Z"
    }
   }
  },
  {
   "cell_type": "code",
   "execution_count": 21,
   "outputs": [
    {
     "data": {
      "text/plain": "<Figure size 640x480 with 1 Axes>",
      "image/png": "[encoded data removed]"
     },
     "metadata": {},
     "output_type": "display_data"
    }
   ],
   "source": [
    "\"\"\"\n",
    "训练过程中损失的下降\n",
    "\"\"\"\n",
    "\n",
    "plt.plot(loss_list,color='blue')\n",
    "plt.xlabel('epochs')\n",
    "plt.ylabel('loss')\n",
    "plt.show()"
   ],
   "metadata": {
    "collapsed": false,
    "ExecuteTime": {
     "end_time": "2023-07-15T07:08:50.130669702Z",
     "start_time": "2023-07-15T07:08:50.072247469Z"
    }
   }
  },
  {
   "cell_type": "markdown",
   "source": [
    "### 封装一个线性回归类\n",
    "\n",
    "实现一个简单的class封装，其中加入自定义的交叉验证过程进行训练"
   ],
   "metadata": {
    "collapsed": false
   }
  },
  {
   "cell_type": "code",
   "execution_count": null,
   "outputs": [],
   "source": [
    "import numpy as np\n",
    "from sklearn.utils import shuffle\n",
    "from sklearn.datasets import load_diabetes\n",
    "\n",
    "class LinearRegressionModel():\n",
    "    def __int__(self):\n",
    "        pass\n",
    "\n",
    "    def prepare_data(self):\n",
    "        data=load_diabetes().data\n",
    "        target=load_diabetes().target\n",
    "        X,y=shuffle(data,target,random_state=42)\n",
    "        X=X.astype(np.float32)\n",
    "        y=y.reshape((-1,1))\n",
    "        # axis的值为0,这意味着要沿着第一个轴(即行)连接这些数组。\n",
    "        # 如果将axis设置为负数，则沿着最后一个轴(即列)连接这些数组。\n",
    "        data=np.concatenate((X,y),axis=1)\n",
    "        return data\n",
    "\n",
    "    def initialize_params(self,dims):\n",
    "        w=np.zeros((dims,1))\n",
    "        b=0\n",
    "        return w,b\n",
    "\n",
    "    def linear_loss(self,X,y,w,b):\n",
    "        num_train=X.shape[0]\n",
    "        num_feature=X.shape[1]\n",
    "\n",
    "        y_hat=np.dot(X,w)+b\n",
    "        loss = np.sum((y_hat-y)**2) / num_train\n",
    "        dw = np.dot(X.T, (y_hat - y)) / num_train\n",
    "        db = np.sum((y_hat - y)) / num_train\n",
    "        return y_hat, loss, dw, db\n",
    "\n",
    "    def linear_train(self, X, y, learning_rate, epochs):\n",
    "        w, b = self.initialize_params(X.shape[1])\n",
    "        for i in range(1, epochs):\n",
    "            y_hat, loss, dw, db = self.linear_loss(X, y, w, b)\n",
    "            w += -learning_rate * dw\n",
    "            b += -learning_rate * db\n",
    "            if i % 10000 == 0:\n",
    "                print('epoch %d loss %f' % (i, loss))\n",
    "            params = {\n",
    "            'w': w,\n",
    "            'b': b\n",
    "            }\n",
    "            grads = {\n",
    "            'dw': dw,\n",
    "            'db': db\n",
    "            }\n",
    "        return loss, params, grads\n",
    "\n",
    "    def predict(self, X, params):\n",
    "        w = params['w']\n",
    "        b = params['b']\n",
    "        y_pred = np.dot(X, w) + b\n",
    "        return y_pred\n",
    "\n",
    "\n",
    "    def linear_cross_validation(self, data, k, randomize=True):\n",
    "        if randomize:\n",
    "            data = list(data)\n",
    "            shuffle(data)\n",
    "\n",
    "        slices = [data[i::k] for i in range(k)]\n",
    "\n",
    "        for i in range(k):\n",
    "            validation = slices[i]\n",
    "            train = [data\n",
    "            for s in slices if s is not validation for data in s]\n",
    "            train = np.array(train)\n",
    "            validation = np.array(validation)\n",
    "            yield train, validation\n",
    "\n",
    "if __name__ == '__main__':\n",
    "    lr = LinearRegressionModel()\n",
    "    data = lr.prepare_data()\n",
    "    for train, validation in lr.linear_cross_validation(data, 5):\n",
    "        X_train = train[:, :10]\n",
    "        y_train = train[:, -1].reshape((-1, 1))\n",
    "        X_valid = validation[:, :10]\n",
    "        y_valid = validation[:, -1].reshape((-1, 1))\n",
    "        loss5 = []\n",
    "        loss, params, grads = lr.linear_train(X_train, y_train, 0.001, 100000)\n",
    "        loss5.append(loss)\n",
    "        score = np.mean(loss5)\n",
    "        print('five kold cross validation score is', score)\n",
    "        y_pred = lr.predict(X_valid, params)\n",
    "        valid_score = np.sum(((y_pred - y_valid) ** 2)) / len(X_valid)\n",
    "        print('valid score is', valid_score)"
   ],
   "metadata": {
    "collapsed": false
   }
  },
  {
   "cell_type": "code",
   "execution_count": null,
   "outputs": [],
   "source": [],
   "metadata": {
    "collapsed": false
   }
  },
  {
   "cell_type": "code",
   "execution_count": null,
   "outputs": [],
   "source": [],
   "metadata": {
    "collapsed": false
   }
  }
 ],
 "metadata": {
  "kernelspec": {
   "display_name": "Python 3",
   "language": "python",
   "name": "python3"
  },
  "language_info": {
   "codemirror_mode": {
    "name": "ipython",
    "version": 2
   },
   "file_extension": ".py",
   "mimetype": "text/x-python",
   "name": "python",
   "nbconvert_exporter": "python",
   "pygments_lexer": "ipython2",
   "version": "2.7.6"
  }
 },
 "nbformat": 4,
 "nbformat_minor": 0
}
